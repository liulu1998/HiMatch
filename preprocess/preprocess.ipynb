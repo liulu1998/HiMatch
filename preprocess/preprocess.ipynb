{
 "cells": [
  {
   "cell_type": "markdown",
   "id": "c9af23da-5bc6-48e6-beff-47f7d2bb2cdb",
   "metadata": {},
   "source": [
    "# 预处理"
   ]
  },
  {
   "cell_type": "code",
   "execution_count": 32,
   "id": "f57b159c",
   "metadata": {
    "collapsed": false,
    "jupyter": {
     "outputs_hidden": false
    }
   },
   "outputs": [],
   "source": [
    "import os\n",
    "import pandas as pd\n",
    "\n",
    "FILE_PATH = \"../壹心理数据-人工标签汇总.xlsx\"\n",
    "\n",
    "OUTPUT_FILE_PATH = \"../data/yixinli/\"\n",
    "\n",
    "if not os.path.exists(OUTPUT_FILE_PATH):\n",
    "    os.makedirs(OUTPUT_FILE_PATH)\n",
    "\n",
    "OUTPUT_FILE = os.path.join(OUTPUT_FILE_PATH, \"yixinli_all.json\")\n",
    "\n",
    "STOP_WORD_FILE = \"./stopword/stopwords.txt\""
   ]
  },
  {
   "cell_type": "code",
   "execution_count": 33,
   "outputs": [
    {
     "data": {
      "text/plain": "                       brief  \\\n0        抑郁症服药中还没有好转要不要心理咨询？   \n1  医院说是抑郁，感觉自己有点自卑，感觉自己是个废物？   \n2     已经不符合抑郁症诊断标准，用哪种办法比较好？   \n3       大一，来了学校却想退学，我真的抑郁了吗？   \n4  测试自己是极度抑郁，需不需要去医院，或者有何方法？   \n\n                                                text main_label label_1  \\\n0  确诊抑郁症服药两周中。白天时候没事儿，每天睡觉都会梦见以前的事情，早上完全无法起床。睡觉不能...         治疗    疾病诊断   \n1  觉得自己比别人差，一点优点也没有。夜里反复地想，反复地痛苦着，因为我这么差，我一点希望也没有...         行为      困惑   \n2  已经不符合抑郁症的诊断标准，并且社会功能损害已经有所修复，但仍时不时感到没兴趣，虽然会逼着自...         治疗    疾病诊断   \n3  我是大一新生，来了学校却想退学，什么事情都不想做，没有兴趣爱好，不知道自己喜欢什么，害怕做自...         治疗    疾病诊断   \n4  生病在家修养，大部分时间是自己一个人呆着，不想和别人交流，尤其是父母，一说话就要发脾气，吵架...         治疗    疾病诊断   \n\n  label_2 label_3  主标签  副标签1 副标签2 副标签3  共情程度  \n0    治疗方法    心理咨询  低效感  心理危机  NaN  NaN     3  \n1     NaN     NaN  低效感  负性情绪  NaN  NaN     3  \n2    心理咨询     NaN  低效感   NaN  NaN  NaN     3  \n3    心理咨询     NaN  低效感  负性情绪  NaN  NaN     3  \n4    治疗方法    心理咨询  低效感  问题行为  NaN  NaN     3  ",
      "text/html": "<div>\n<style scoped>\n    .dataframe tbody tr th:only-of-type {\n        vertical-align: middle;\n    }\n\n    .dataframe tbody tr th {\n        vertical-align: top;\n    }\n\n    .dataframe thead th {\n        text-align: right;\n    }\n</style>\n<table border=\"1\" class=\"dataframe\">\n  <thead>\n    <tr style=\"text-align: right;\">\n      <th></th>\n      <th>brief</th>\n      <th>text</th>\n      <th>main_label</th>\n      <th>label_1</th>\n      <th>label_2</th>\n      <th>label_3</th>\n      <th>主标签</th>\n      <th>副标签1</th>\n      <th>副标签2</th>\n      <th>副标签3</th>\n      <th>共情程度</th>\n    </tr>\n  </thead>\n  <tbody>\n    <tr>\n      <th>0</th>\n      <td>抑郁症服药中还没有好转要不要心理咨询？</td>\n      <td>确诊抑郁症服药两周中。白天时候没事儿，每天睡觉都会梦见以前的事情，早上完全无法起床。睡觉不能...</td>\n      <td>治疗</td>\n      <td>疾病诊断</td>\n      <td>治疗方法</td>\n      <td>心理咨询</td>\n      <td>低效感</td>\n      <td>心理危机</td>\n      <td>NaN</td>\n      <td>NaN</td>\n      <td>3</td>\n    </tr>\n    <tr>\n      <th>1</th>\n      <td>医院说是抑郁，感觉自己有点自卑，感觉自己是个废物？</td>\n      <td>觉得自己比别人差，一点优点也没有。夜里反复地想，反复地痛苦着，因为我这么差，我一点希望也没有...</td>\n      <td>行为</td>\n      <td>困惑</td>\n      <td>NaN</td>\n      <td>NaN</td>\n      <td>低效感</td>\n      <td>负性情绪</td>\n      <td>NaN</td>\n      <td>NaN</td>\n      <td>3</td>\n    </tr>\n    <tr>\n      <th>2</th>\n      <td>已经不符合抑郁症诊断标准，用哪种办法比较好？</td>\n      <td>已经不符合抑郁症的诊断标准，并且社会功能损害已经有所修复，但仍时不时感到没兴趣，虽然会逼着自...</td>\n      <td>治疗</td>\n      <td>疾病诊断</td>\n      <td>心理咨询</td>\n      <td>NaN</td>\n      <td>低效感</td>\n      <td>NaN</td>\n      <td>NaN</td>\n      <td>NaN</td>\n      <td>3</td>\n    </tr>\n    <tr>\n      <th>3</th>\n      <td>大一，来了学校却想退学，我真的抑郁了吗？</td>\n      <td>我是大一新生，来了学校却想退学，什么事情都不想做，没有兴趣爱好，不知道自己喜欢什么，害怕做自...</td>\n      <td>治疗</td>\n      <td>疾病诊断</td>\n      <td>心理咨询</td>\n      <td>NaN</td>\n      <td>低效感</td>\n      <td>负性情绪</td>\n      <td>NaN</td>\n      <td>NaN</td>\n      <td>3</td>\n    </tr>\n    <tr>\n      <th>4</th>\n      <td>测试自己是极度抑郁，需不需要去医院，或者有何方法？</td>\n      <td>生病在家修养，大部分时间是自己一个人呆着，不想和别人交流，尤其是父母，一说话就要发脾气，吵架...</td>\n      <td>治疗</td>\n      <td>疾病诊断</td>\n      <td>治疗方法</td>\n      <td>心理咨询</td>\n      <td>低效感</td>\n      <td>问题行为</td>\n      <td>NaN</td>\n      <td>NaN</td>\n      <td>3</td>\n    </tr>\n  </tbody>\n</table>\n</div>"
     },
     "execution_count": 33,
     "metadata": {},
     "output_type": "execute_result"
    }
   ],
   "source": [
    "df = pd.read_excel(FILE_PATH, sheet_name=\"数据\")\n",
    "\n",
    "df[[\"brief\", \"text\"]] = df[[\"brief\", \"text\"]].astype(str)\n",
    "\n",
    "df.head()"
   ],
   "metadata": {
    "collapsed": false
   }
  },
  {
   "cell_type": "markdown",
   "source": [
    "## 分词"
   ],
   "metadata": {
    "collapsed": false
   }
  },
  {
   "cell_type": "code",
   "execution_count": 34,
   "outputs": [],
   "source": [
    "from typing import List\n",
    "\n",
    "import jieba\n",
    "\n",
    "# def cut(s: str) -> List[str]:\n",
    "#     \"\"\"\n",
    "#     cut text into tokens\n",
    "#     :param s:\n",
    "#     :return:\n",
    "#     \"\"\"\n",
    "#     return jieba.lcut(s, cut_all=False)\n",
    "\n",
    "# 创建停用词列表\n",
    "def stopwordslist():\n",
    "    stopwords = [line.strip() for line in open(STOP_WORD_FILE).readlines()]\n",
    "    return stopwords\n",
    "\n",
    "# 对句子进行中文分词\n",
    "def seg_depart(sentence: str) -> List[str]:\n",
    "    # 对文档中的每一行进行中文分词\n",
    "    # print(\"正在分词\")\n",
    "    sentence_depart = jieba.lcut(sentence.strip(), cut_all=False)\n",
    "    # 创建一个停用词列表\n",
    "    stopwords = stopwordslist()\n",
    "    out = []\n",
    "    # 去停用词\n",
    "    for word in sentence_depart:\n",
    "        word = word.strip()\n",
    "        if word not in stopwords:\n",
    "            if word != '\\t' and word != \"\":\n",
    "                out.append(word)\n",
    "    return out"
   ],
   "metadata": {
    "collapsed": false
   }
  },
  {
   "cell_type": "code",
   "execution_count": 35,
   "outputs": [
    {
     "data": {
      "text/plain": "                       brief  \\\n0        抑郁症服药中还没有好转要不要心理咨询？   \n1  医院说是抑郁，感觉自己有点自卑，感觉自己是个废物？   \n2     已经不符合抑郁症诊断标准，用哪种办法比较好？   \n3       大一，来了学校却想退学，我真的抑郁了吗？   \n4  测试自己是极度抑郁，需不需要去医院，或者有何方法？   \n\n                                                text main_label label_1  \\\n0  确诊抑郁症服药两周中。白天时候没事儿，每天睡觉都会梦见以前的事情，早上完全无法起床。睡觉不能...         治疗    疾病诊断   \n1  觉得自己比别人差，一点优点也没有。夜里反复地想，反复地痛苦着，因为我这么差，我一点希望也没有...         行为      困惑   \n2  已经不符合抑郁症的诊断标准，并且社会功能损害已经有所修复，但仍时不时感到没兴趣，虽然会逼着自...         治疗    疾病诊断   \n3  我是大一新生，来了学校却想退学，什么事情都不想做，没有兴趣爱好，不知道自己喜欢什么，害怕做自...         治疗    疾病诊断   \n4  生病在家修养，大部分时间是自己一个人呆着，不想和别人交流，尤其是父母，一说话就要发脾气，吵架...         治疗    疾病诊断   \n\n  label_2 label_3  主标签  副标签1 副标签2 副标签3  共情程度  \\\n0    治疗方法    心理咨询  低效感  心理危机  NaN  NaN     3   \n1     NaN     NaN  低效感  负性情绪  NaN  NaN     3   \n2    心理咨询     NaN  低效感   NaN  NaN  NaN     3   \n3    心理咨询     NaN  低效感  负性情绪  NaN  NaN     3   \n4    治疗方法    心理咨询  低效感  问题行为  NaN  NaN     3   \n\n                                             textCut  \n0  [确诊, 抑郁症, 服药, 两周, 中, 白天, 没事儿, 睡觉, 梦见, 事情, 早上, ...  \n1  [差, 一点, 优点, 夜里, 反复, 地想, 反复, 痛苦, 差, 一点, 希望, 睡不着...  \n2  [符合, 抑郁症, 诊断, 标准, 社会, 功能, 损害, 修复, 时不时, 感到, 兴趣,...  \n3  [新生, 学校, 想, 退学, 事情, 不想, 做, 兴趣爱好, 喜欢, 害怕, 做, 自我...  \n4  [生病, 在家, 修养, 大部分, 时间, 呆, 不想, 交流, 父母, 说话, 发脾气, ...  ",
      "text/html": "<div>\n<style scoped>\n    .dataframe tbody tr th:only-of-type {\n        vertical-align: middle;\n    }\n\n    .dataframe tbody tr th {\n        vertical-align: top;\n    }\n\n    .dataframe thead th {\n        text-align: right;\n    }\n</style>\n<table border=\"1\" class=\"dataframe\">\n  <thead>\n    <tr style=\"text-align: right;\">\n      <th></th>\n      <th>brief</th>\n      <th>text</th>\n      <th>main_label</th>\n      <th>label_1</th>\n      <th>label_2</th>\n      <th>label_3</th>\n      <th>主标签</th>\n      <th>副标签1</th>\n      <th>副标签2</th>\n      <th>副标签3</th>\n      <th>共情程度</th>\n      <th>textCut</th>\n    </tr>\n  </thead>\n  <tbody>\n    <tr>\n      <th>0</th>\n      <td>抑郁症服药中还没有好转要不要心理咨询？</td>\n      <td>确诊抑郁症服药两周中。白天时候没事儿，每天睡觉都会梦见以前的事情，早上完全无法起床。睡觉不能...</td>\n      <td>治疗</td>\n      <td>疾病诊断</td>\n      <td>治疗方法</td>\n      <td>心理咨询</td>\n      <td>低效感</td>\n      <td>心理危机</td>\n      <td>NaN</td>\n      <td>NaN</td>\n      <td>3</td>\n      <td>[确诊, 抑郁症, 服药, 两周, 中, 白天, 没事儿, 睡觉, 梦见, 事情, 早上, ...</td>\n    </tr>\n    <tr>\n      <th>1</th>\n      <td>医院说是抑郁，感觉自己有点自卑，感觉自己是个废物？</td>\n      <td>觉得自己比别人差，一点优点也没有。夜里反复地想，反复地痛苦着，因为我这么差，我一点希望也没有...</td>\n      <td>行为</td>\n      <td>困惑</td>\n      <td>NaN</td>\n      <td>NaN</td>\n      <td>低效感</td>\n      <td>负性情绪</td>\n      <td>NaN</td>\n      <td>NaN</td>\n      <td>3</td>\n      <td>[差, 一点, 优点, 夜里, 反复, 地想, 反复, 痛苦, 差, 一点, 希望, 睡不着...</td>\n    </tr>\n    <tr>\n      <th>2</th>\n      <td>已经不符合抑郁症诊断标准，用哪种办法比较好？</td>\n      <td>已经不符合抑郁症的诊断标准，并且社会功能损害已经有所修复，但仍时不时感到没兴趣，虽然会逼着自...</td>\n      <td>治疗</td>\n      <td>疾病诊断</td>\n      <td>心理咨询</td>\n      <td>NaN</td>\n      <td>低效感</td>\n      <td>NaN</td>\n      <td>NaN</td>\n      <td>NaN</td>\n      <td>3</td>\n      <td>[符合, 抑郁症, 诊断, 标准, 社会, 功能, 损害, 修复, 时不时, 感到, 兴趣,...</td>\n    </tr>\n    <tr>\n      <th>3</th>\n      <td>大一，来了学校却想退学，我真的抑郁了吗？</td>\n      <td>我是大一新生，来了学校却想退学，什么事情都不想做，没有兴趣爱好，不知道自己喜欢什么，害怕做自...</td>\n      <td>治疗</td>\n      <td>疾病诊断</td>\n      <td>心理咨询</td>\n      <td>NaN</td>\n      <td>低效感</td>\n      <td>负性情绪</td>\n      <td>NaN</td>\n      <td>NaN</td>\n      <td>3</td>\n      <td>[新生, 学校, 想, 退学, 事情, 不想, 做, 兴趣爱好, 喜欢, 害怕, 做, 自我...</td>\n    </tr>\n    <tr>\n      <th>4</th>\n      <td>测试自己是极度抑郁，需不需要去医院，或者有何方法？</td>\n      <td>生病在家修养，大部分时间是自己一个人呆着，不想和别人交流，尤其是父母，一说话就要发脾气，吵架...</td>\n      <td>治疗</td>\n      <td>疾病诊断</td>\n      <td>治疗方法</td>\n      <td>心理咨询</td>\n      <td>低效感</td>\n      <td>问题行为</td>\n      <td>NaN</td>\n      <td>NaN</td>\n      <td>3</td>\n      <td>[生病, 在家, 修养, 大部分, 时间, 呆, 不想, 交流, 父母, 说话, 发脾气, ...</td>\n    </tr>\n  </tbody>\n</table>\n</div>"
     },
     "execution_count": 35,
     "metadata": {},
     "output_type": "execute_result"
    }
   ],
   "source": [
    "df[\"textCut\"] = df.text.apply(seg_depart)\n",
    "\n",
    "df.head()"
   ],
   "metadata": {
    "collapsed": false
   }
  },
  {
   "cell_type": "markdown",
   "source": [
    "## 处理 Label"
   ],
   "metadata": {
    "collapsed": false
   }
  },
  {
   "cell_type": "code",
   "execution_count": 36,
   "outputs": [],
   "source": [
    "label_columns = [\"主标签\", \"副标签1\", \"副标签2\", \"副标签3\"]\n",
    "\n",
    "def merge_label(c) -> List[str]:\n",
    "    \"\"\"\n",
    "    过滤非空 label，归并为 list\n",
    "    :return:\n",
    "    \"\"\"\n",
    "    li = c[label_columns]\n",
    "    return list(filter(lambda x: x != \"\" and not pd.isnull(x), li))"
   ],
   "metadata": {
    "collapsed": false
   }
  },
  {
   "cell_type": "code",
   "execution_count": 37,
   "outputs": [
    {
     "data": {
      "text/plain": "                       brief  \\\n0        抑郁症服药中还没有好转要不要心理咨询？   \n1  医院说是抑郁，感觉自己有点自卑，感觉自己是个废物？   \n2     已经不符合抑郁症诊断标准，用哪种办法比较好？   \n3       大一，来了学校却想退学，我真的抑郁了吗？   \n4  测试自己是极度抑郁，需不需要去医院，或者有何方法？   \n\n                                                text  \\\n0  确诊抑郁症服药两周中。白天时候没事儿，每天睡觉都会梦见以前的事情，早上完全无法起床。睡觉不能...   \n1  觉得自己比别人差，一点优点也没有。夜里反复地想，反复地痛苦着，因为我这么差，我一点希望也没有...   \n2  已经不符合抑郁症的诊断标准，并且社会功能损害已经有所修复，但仍时不时感到没兴趣，虽然会逼着自...   \n3  我是大一新生，来了学校却想退学，什么事情都不想做，没有兴趣爱好，不知道自己喜欢什么，害怕做自...   \n4  生病在家修养，大部分时间是自己一个人呆着，不想和别人交流，尤其是父母，一说话就要发脾气，吵架...   \n\n                                             textCut main_label label_1  \\\n0  [确诊, 抑郁症, 服药, 两周, 中, 白天, 没事儿, 睡觉, 梦见, 事情, 早上, ...         治疗    疾病诊断   \n1  [差, 一点, 优点, 夜里, 反复, 地想, 反复, 痛苦, 差, 一点, 希望, 睡不着...         行为      困惑   \n2  [符合, 抑郁症, 诊断, 标准, 社会, 功能, 损害, 修复, 时不时, 感到, 兴趣,...         治疗    疾病诊断   \n3  [新生, 学校, 想, 退学, 事情, 不想, 做, 兴趣爱好, 喜欢, 害怕, 做, 自我...         治疗    疾病诊断   \n4  [生病, 在家, 修养, 大部分, 时间, 呆, 不想, 交流, 父母, 说话, 发脾气, ...         治疗    疾病诊断   \n\n  label_2 label_3  主标签  副标签1 副标签2 副标签3  共情程度        label  \n0    治疗方法    心理咨询  低效感  心理危机  NaN  NaN     3  [低效感, 心理危机]  \n1     NaN     NaN  低效感  负性情绪  NaN  NaN     3  [低效感, 负性情绪]  \n2    心理咨询     NaN  低效感   NaN  NaN  NaN     3        [低效感]  \n3    心理咨询     NaN  低效感  负性情绪  NaN  NaN     3  [低效感, 负性情绪]  \n4    治疗方法    心理咨询  低效感  问题行为  NaN  NaN     3  [低效感, 问题行为]  ",
      "text/html": "<div>\n<style scoped>\n    .dataframe tbody tr th:only-of-type {\n        vertical-align: middle;\n    }\n\n    .dataframe tbody tr th {\n        vertical-align: top;\n    }\n\n    .dataframe thead th {\n        text-align: right;\n    }\n</style>\n<table border=\"1\" class=\"dataframe\">\n  <thead>\n    <tr style=\"text-align: right;\">\n      <th></th>\n      <th>brief</th>\n      <th>text</th>\n      <th>textCut</th>\n      <th>main_label</th>\n      <th>label_1</th>\n      <th>label_2</th>\n      <th>label_3</th>\n      <th>主标签</th>\n      <th>副标签1</th>\n      <th>副标签2</th>\n      <th>副标签3</th>\n      <th>共情程度</th>\n      <th>label</th>\n    </tr>\n  </thead>\n  <tbody>\n    <tr>\n      <th>0</th>\n      <td>抑郁症服药中还没有好转要不要心理咨询？</td>\n      <td>确诊抑郁症服药两周中。白天时候没事儿，每天睡觉都会梦见以前的事情，早上完全无法起床。睡觉不能...</td>\n      <td>[确诊, 抑郁症, 服药, 两周, 中, 白天, 没事儿, 睡觉, 梦见, 事情, 早上, ...</td>\n      <td>治疗</td>\n      <td>疾病诊断</td>\n      <td>治疗方法</td>\n      <td>心理咨询</td>\n      <td>低效感</td>\n      <td>心理危机</td>\n      <td>NaN</td>\n      <td>NaN</td>\n      <td>3</td>\n      <td>[低效感, 心理危机]</td>\n    </tr>\n    <tr>\n      <th>1</th>\n      <td>医院说是抑郁，感觉自己有点自卑，感觉自己是个废物？</td>\n      <td>觉得自己比别人差，一点优点也没有。夜里反复地想，反复地痛苦着，因为我这么差，我一点希望也没有...</td>\n      <td>[差, 一点, 优点, 夜里, 反复, 地想, 反复, 痛苦, 差, 一点, 希望, 睡不着...</td>\n      <td>行为</td>\n      <td>困惑</td>\n      <td>NaN</td>\n      <td>NaN</td>\n      <td>低效感</td>\n      <td>负性情绪</td>\n      <td>NaN</td>\n      <td>NaN</td>\n      <td>3</td>\n      <td>[低效感, 负性情绪]</td>\n    </tr>\n    <tr>\n      <th>2</th>\n      <td>已经不符合抑郁症诊断标准，用哪种办法比较好？</td>\n      <td>已经不符合抑郁症的诊断标准，并且社会功能损害已经有所修复，但仍时不时感到没兴趣，虽然会逼着自...</td>\n      <td>[符合, 抑郁症, 诊断, 标准, 社会, 功能, 损害, 修复, 时不时, 感到, 兴趣,...</td>\n      <td>治疗</td>\n      <td>疾病诊断</td>\n      <td>心理咨询</td>\n      <td>NaN</td>\n      <td>低效感</td>\n      <td>NaN</td>\n      <td>NaN</td>\n      <td>NaN</td>\n      <td>3</td>\n      <td>[低效感]</td>\n    </tr>\n    <tr>\n      <th>3</th>\n      <td>大一，来了学校却想退学，我真的抑郁了吗？</td>\n      <td>我是大一新生，来了学校却想退学，什么事情都不想做，没有兴趣爱好，不知道自己喜欢什么，害怕做自...</td>\n      <td>[新生, 学校, 想, 退学, 事情, 不想, 做, 兴趣爱好, 喜欢, 害怕, 做, 自我...</td>\n      <td>治疗</td>\n      <td>疾病诊断</td>\n      <td>心理咨询</td>\n      <td>NaN</td>\n      <td>低效感</td>\n      <td>负性情绪</td>\n      <td>NaN</td>\n      <td>NaN</td>\n      <td>3</td>\n      <td>[低效感, 负性情绪]</td>\n    </tr>\n    <tr>\n      <th>4</th>\n      <td>测试自己是极度抑郁，需不需要去医院，或者有何方法？</td>\n      <td>生病在家修养，大部分时间是自己一个人呆着，不想和别人交流，尤其是父母，一说话就要发脾气，吵架...</td>\n      <td>[生病, 在家, 修养, 大部分, 时间, 呆, 不想, 交流, 父母, 说话, 发脾气, ...</td>\n      <td>治疗</td>\n      <td>疾病诊断</td>\n      <td>治疗方法</td>\n      <td>心理咨询</td>\n      <td>低效感</td>\n      <td>问题行为</td>\n      <td>NaN</td>\n      <td>NaN</td>\n      <td>3</td>\n      <td>[低效感, 问题行为]</td>\n    </tr>\n  </tbody>\n</table>\n</div>"
     },
     "execution_count": 37,
     "metadata": {},
     "output_type": "execute_result"
    }
   ],
   "source": [
    "# 聚合 label\n",
    "df[\"label\"] = df[label_columns].apply(merge_label, axis=1)\n",
    "\n",
    "# 调整列的顺序\n",
    "columns_rearranged = [\n",
    "    'brief', 'text', 'textCut', 'main_label', 'label_1', 'label_2', 'label_3', '主标签', '副标签1', '副标签2', '副标签3', '共情程度', 'label'\n",
    "]\n",
    "\n",
    "df = df[columns_rearranged]\n",
    "df.head()"
   ],
   "metadata": {
    "collapsed": false
   }
  },
  {
   "cell_type": "markdown",
   "source": [
    "## 导出 HiMatch 格式语料"
   ],
   "metadata": {
    "collapsed": false
   }
  },
  {
   "cell_type": "code",
   "execution_count": 38,
   "outputs": [],
   "source": [
    "LABEL = \"label\"\n",
    "TOKEN = \"textCut\"\n",
    "\n",
    "def to_result(line) -> dict:\n",
    "    \"\"\"\n",
    "\n",
    "    :param line:\n",
    "    :return: dict, token: List of str, label: List of str\n",
    "    \"\"\"\n",
    "    token = line[TOKEN]\n",
    "    label = line[LABEL]\n",
    "    return {\n",
    "        \"token\": token,\n",
    "        LABEL: label\n",
    "    }"
   ],
   "metadata": {
    "collapsed": false
   }
  },
  {
   "cell_type": "code",
   "execution_count": 39,
   "outputs": [
    {
     "data": {
      "text/plain": "0    {'token': ['确诊', '抑郁症', '服药', '两周', '中', '白天',...\n1    {'token': ['差', '一点', '优点', '夜里', '反复', '地想', ...\n2    {'token': ['符合', '抑郁症', '诊断', '标准', '社会', '功能'...\n3    {'token': ['新生', '学校', '想', '退学', '事情', '不想', ...\n4    {'token': ['生病', '在家', '修养', '大部分', '时间', '呆',...\ndtype: object"
     },
     "execution_count": 39,
     "metadata": {},
     "output_type": "execute_result"
    }
   ],
   "source": [
    "result = df[[LABEL, TOKEN]].apply(to_result, axis=1)\n",
    "\n",
    "result.head()"
   ],
   "metadata": {
    "collapsed": false
   }
  },
  {
   "cell_type": "code",
   "execution_count": 40,
   "outputs": [],
   "source": [
    "import json\n",
    "\n",
    "with open(OUTPUT_FILE, \"w\", encoding=\"utf-8\") as f:\n",
    "    for row in result:\n",
    "        f.write(json.dumps(row, ensure_ascii=False))\n",
    "        f.write(\"\\n\")"
   ],
   "metadata": {
    "collapsed": false
   }
  }
 ],
 "metadata": {
  "kernelspec": {
   "display_name": "Python3.8 (torch)",
   "language": "python",
   "name": "torch"
  },
  "language_info": {
   "codemirror_mode": {
    "name": "ipython",
    "version": 3
   },
   "file_extension": ".py",
   "mimetype": "text/x-python",
   "name": "python",
   "nbconvert_exporter": "python",
   "pygments_lexer": "ipython3",
   "version": "3.8.13"
  }
 },
 "nbformat": 4,
 "nbformat_minor": 5
}
